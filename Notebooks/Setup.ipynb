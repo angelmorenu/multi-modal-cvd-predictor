{
 "cells": [
  {
   "cell_type": "markdown",
   "id": "0ef7970b",
   "metadata": {},
   "source": [
    "# Multi-Modal Predictors for Cardiovascular Disease Risk and Outcomes\n",
    "\n",
    "**Project Deliverable 1**  \n",
    "EEE 6778: Applied Machine Learning II (Fall 2025)  \n",
    "**Author:** Angel Morenu  \n",
    "**University of Florida**"
   ]
  },
  {
   "cell_type": "code",
   "execution_count": 1,
   "id": "039e6998",
   "metadata": {},
   "outputs": [],
   "source": [
    "import pandas as pd\n",
    "import numpy as np\n",
    "import matplotlib.pyplot as plt"
   ]
  },
  {
   "cell_type": "markdown",
   "id": "364f7d5a",
   "metadata": {},
   "source": [
    "## Cardiovascular Disease Dataset"
   ]
  },
  {
   "cell_type": "code",
   "execution_count": 2,
   "id": "e0742061",
   "metadata": {},
   "outputs": [
    {
     "name": "stdout",
     "output_type": "stream",
     "text": [
      "Dataset source: https://www.kaggle.com/datasets/mexwell/cardiovascular-diseases\n"
     ]
    }
   ],
   "source": [
    "# Replace with actual path if local file used\n",
    "cardio_url = \"https://www.kaggle.com/datasets/mexwell/cardiovascular-diseases\"\n",
    "print(\"Dataset source:\", cardio_url)\n",
    "# df_cardio = pd.read_csv(\"data/cardio.csv\")  # Uncomment after downloading\n",
    "# df_cardio.head()"
   ]
  },
  {
   "cell_type": "markdown",
   "id": "0e412121",
   "metadata": {},
   "source": [
    "## Hospital Admissions Dataset"
   ]
  },
  {
   "cell_type": "code",
   "execution_count": 3,
   "id": "b74795b3",
   "metadata": {},
   "outputs": [
    {
     "name": "stdout",
     "output_type": "stream",
     "text": [
      "🔗 Dataset source: https://www.kaggle.com/datasets/ashishsahani/hospital-admissions-data\n"
     ]
    }
   ],
   "source": [
    "hospital_url = \"https://www.kaggle.com/datasets/ashishsahani/hospital-admissions-data\"\n",
    "print(\"🔗 Dataset source:\", hospital_url)\n",
    "# df_hosp = pd.read_csv(\"data/hospital_admissions.csv\")  # Uncomment after downloading\n",
    "# df_hosp.head()"
   ]
  },
  {
   "cell_type": "markdown",
   "id": "d6c21692",
   "metadata": {},
   "source": [
    "## ECG Dataset (PTB-XL)"
   ]
  },
  {
   "cell_type": "code",
   "execution_count": 4,
   "id": "90157e85",
   "metadata": {},
   "outputs": [
    {
     "name": "stdout",
     "output_type": "stream",
     "text": [
      "🔗 Dataset source: https://www.kaggle.com/datasets/khyeh0719/ptb-xl-dataset-reformatted\n"
     ]
    }
   ],
   "source": [
    "ecg_url = \"https://www.kaggle.com/datasets/khyeh0719/ptb-xl-dataset-reformatted\"\n",
    "print(\"🔗 Dataset source:\", ecg_url)\n",
    "# ECG data is typically in WFDB format – we will process this later using wfdb package.\n",
    "# import wfdb; wfdb.rdrecord(\"data/ptb-xl/record-name\")  # Example usage"
   ]
  },
  {
   "cell_type": "markdown",
   "id": "8843a226",
   "metadata": {},
   "source": [
    "## Environment Check"
   ]
  },
  {
   "cell_type": "code",
   "execution_count": 6,
   "id": "cafc7dc3",
   "metadata": {},
   "outputs": [
    {
     "name": "stdout",
     "output_type": "stream",
     "text": [
      "NumPy: 1.26.4\n",
      "Pandas: 2.2.2\n",
      "Matplotlib: 3.9.2\n",
      "PyTorch: 2.2.2\n",
      "Device: CPU\n"
     ]
    }
   ],
   "source": [
    "import torch\n",
    "\n",
    "# Versions\n",
    "print(f\"NumPy: {np.__version__}\")\n",
    "print(f\"Pandas: {pd.__version__}\")\n",
    "print(f\"Matplotlib: {plt.matplotlib.__version__}\")\n",
    "print(f\"PyTorch: {torch.__version__}\")\n",
    "\n",
    "# Device check\n",
    "cuda_ok = torch.cuda.is_available()\n",
    "mps_ok = hasattr(torch.backends, \"mps\") and torch.backends.mps.is_available()\n",
    "\n",
    "if cuda_ok:\n",
    "    device = torch.device(\"cuda\")\n",
    "    gpu_name = torch.cuda.get_device_name(0)\n",
    "    cc = torch.cuda.get_device_capability(0)\n",
    "    print(f\"Device: CUDA ({gpu_name}, cc={cc[0]}.{cc[1]})\")\n",
    "elif mps_ok:\n",
    "    device = torch.device(\"mps\")\n",
    "    print(\"Device: Apple MPS\")\n",
    "else:\n",
    "    device = torch.device(\"cpu\")\n",
    "    print(\"Device: CPU\")\n",
    "\n",
    "# Save for later use\n",
    "torch_device = device"
   ]
  }
 ],
 "metadata": {
  "kernelspec": {
   "display_name": "aml",
   "language": "python",
   "name": "python3"
  },
  "language_info": {
   "codemirror_mode": {
    "name": "ipython",
    "version": 3
   },
   "file_extension": ".py",
   "mimetype": "text/x-python",
   "name": "python",
   "nbconvert_exporter": "python",
   "pygments_lexer": "ipython3",
   "version": "3.12.7"
  }
 },
 "nbformat": 4,
 "nbformat_minor": 5
}
